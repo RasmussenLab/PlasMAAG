{
 "cells": [
  {
   "cell_type": "code",
   "execution_count": null,
   "metadata": {},
   "outputs": [],
   "source": [
    "import subprocess\n",
    "\n",
    "def get_git_commit():\n",
    "    try:\n",
    "        # Get the short commit hash\n",
    "        commit = subprocess.check_output([\"git\", \"rev-parse\", \"--short\", \"HEAD\"]).decode(\"utf-8\").strip()\n",
    "        return commit\n",
    "    except subprocess.CalledProcessError:\n",
    "        return \"No Git commit found\"\n",
    "\n"
   ]
  }
 ],
 "metadata": {
  "language_info": {
   "name": "python"
  }
 },
 "nbformat": 4,
 "nbformat_minor": 2
}
